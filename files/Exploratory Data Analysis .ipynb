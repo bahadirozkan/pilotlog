{
 "cells": [
  {
   "cell_type": "code",
   "execution_count": 1,
   "id": "5da57973",
   "metadata": {},
   "outputs": [],
   "source": [
    "# import libraries\n",
    "import pandas as pd\n",
    "import json"
   ]
  },
  {
   "cell_type": "code",
   "execution_count": 2,
   "id": "c9074482",
   "metadata": {},
   "outputs": [],
   "source": [
    "# Load the file\n",
    "file_path = 'files/import - pilotlog_mcc.json'\n",
    "\n",
    "with open(file_path, 'r', encoding='utf-8') as file:\n",
    "    json_data = file.read()\n",
    "\n",
    "# Remove double-escaping\n",
    "json_data = json_data.replace('\\\\\"', '\"')\n",
    "\n",
    "# Load JSON data\n",
    "try:\n",
    "    data = json.loads(json_data)\n",
    "except json.JSONDecodeError as e:\n",
    "    print(f\"Error decoding JSON: {e}\")"
   ]
  },
  {
   "cell_type": "code",
   "execution_count": 3,
   "id": "c22ba9fb",
   "metadata": {},
   "outputs": [
    {
     "data": {
      "text/plain": [
       "5479"
      ]
     },
     "execution_count": 3,
     "metadata": {},
     "output_type": "execute_result"
    }
   ],
   "source": [
    "# Length of the data\n",
    "len(data)"
   ]
  },
  {
   "cell_type": "code",
   "execution_count": 4,
   "id": "c229c32e",
   "metadata": {},
   "outputs": [],
   "source": [
    "# make data a pandas dataframe\n",
    "df = pd.DataFrame(data)"
   ]
  },
  {
   "cell_type": "code",
   "execution_count": 5,
   "id": "c6cc0721",
   "metadata": {},
   "outputs": [
    {
     "data": {
      "text/html": [
       "<div>\n",
       "<style scoped>\n",
       "    .dataframe tbody tr th:only-of-type {\n",
       "        vertical-align: middle;\n",
       "    }\n",
       "\n",
       "    .dataframe tbody tr th {\n",
       "        vertical-align: top;\n",
       "    }\n",
       "\n",
       "    .dataframe thead th {\n",
       "        text-align: right;\n",
       "    }\n",
       "</style>\n",
       "<table border=\"1\" class=\"dataframe\">\n",
       "  <thead>\n",
       "    <tr style=\"text-align: right;\">\n",
       "      <th></th>\n",
       "      <th>user_id</th>\n",
       "      <th>table</th>\n",
       "      <th>guid</th>\n",
       "      <th>meta</th>\n",
       "      <th>platform</th>\n",
       "      <th>_modified</th>\n",
       "    </tr>\n",
       "  </thead>\n",
       "  <tbody>\n",
       "    <tr>\n",
       "      <th>0</th>\n",
       "      <td>125880</td>\n",
       "      <td>Aircraft</td>\n",
       "      <td>00000000-0000-0000-0000-000000000367</td>\n",
       "      <td>{'Fin': '', 'Sea': False, 'TMG': False, 'Efis'...</td>\n",
       "      <td>9</td>\n",
       "      <td>1616317613</td>\n",
       "    </tr>\n",
       "    <tr>\n",
       "      <th>1</th>\n",
       "      <td>125880</td>\n",
       "      <td>Aircraft</td>\n",
       "      <td>00000000-0000-0000-0000-000000000368</td>\n",
       "      <td>{'Fin': '', 'Sea': False, 'TMG': False, 'Efis'...</td>\n",
       "      <td>9</td>\n",
       "      <td>1616317613</td>\n",
       "    </tr>\n",
       "    <tr>\n",
       "      <th>2</th>\n",
       "      <td>125880</td>\n",
       "      <td>Aircraft</td>\n",
       "      <td>00000000-0000-0000-0000-000000000369</td>\n",
       "      <td>{'Fin': '', 'Sea': False, 'TMG': False, 'Efis'...</td>\n",
       "      <td>9</td>\n",
       "      <td>1616317613</td>\n",
       "    </tr>\n",
       "    <tr>\n",
       "      <th>3</th>\n",
       "      <td>125880</td>\n",
       "      <td>Aircraft</td>\n",
       "      <td>00000000-0000-0000-0000-000000000370</td>\n",
       "      <td>{'Fin': '', 'Sea': False, 'TMG': False, 'Efis'...</td>\n",
       "      <td>9</td>\n",
       "      <td>1616317613</td>\n",
       "    </tr>\n",
       "    <tr>\n",
       "      <th>4</th>\n",
       "      <td>125880</td>\n",
       "      <td>Aircraft</td>\n",
       "      <td>00000000-0000-0000-0000-000000000371</td>\n",
       "      <td>{'Fin': '', 'Sea': False, 'TMG': False, 'Efis'...</td>\n",
       "      <td>9</td>\n",
       "      <td>1616317613</td>\n",
       "    </tr>\n",
       "  </tbody>\n",
       "</table>\n",
       "</div>"
      ],
      "text/plain": [
       "   user_id     table                                  guid  \\\n",
       "0   125880  Aircraft  00000000-0000-0000-0000-000000000367   \n",
       "1   125880  Aircraft  00000000-0000-0000-0000-000000000368   \n",
       "2   125880  Aircraft  00000000-0000-0000-0000-000000000369   \n",
       "3   125880  Aircraft  00000000-0000-0000-0000-000000000370   \n",
       "4   125880  Aircraft  00000000-0000-0000-0000-000000000371   \n",
       "\n",
       "                                                meta  platform   _modified  \n",
       "0  {'Fin': '', 'Sea': False, 'TMG': False, 'Efis'...         9  1616317613  \n",
       "1  {'Fin': '', 'Sea': False, 'TMG': False, 'Efis'...         9  1616317613  \n",
       "2  {'Fin': '', 'Sea': False, 'TMG': False, 'Efis'...         9  1616317613  \n",
       "3  {'Fin': '', 'Sea': False, 'TMG': False, 'Efis'...         9  1616317613  \n",
       "4  {'Fin': '', 'Sea': False, 'TMG': False, 'Efis'...         9  1616317613  "
      ]
     },
     "execution_count": 5,
     "metadata": {},
     "output_type": "execute_result"
    }
   ],
   "source": [
    "df.head()"
   ]
  },
  {
   "cell_type": "code",
   "execution_count": 9,
   "id": "18dff095",
   "metadata": {},
   "outputs": [
    {
     "data": {
      "text/plain": [
       "{'City': '',\n",
       " 'AFCat': 7,\n",
       " 'AFFAA': '',\n",
       " 'Notes': '',\n",
       " 'AFCode': 'E5C0906C-0B44-43F5-801A-38CE706E9005',\n",
       " 'AFIATA': '',\n",
       " 'AFICAO': 'KX63',\n",
       " 'AFName': 'DR Hermenegildo Ortiz',\n",
       " 'TZCode': 55,\n",
       " 'Latitude': 0,\n",
       " 'ShowList': True,\n",
       " 'UserEdit': True,\n",
       " 'AFCountry': 177,\n",
       " 'Longitude': 0,\n",
       " 'NotesUser': '',\n",
       " 'RegionUser': 0,\n",
       " 'ElevationFT': -99,\n",
       " 'Record_Modified': 1681419296}"
      ]
     },
     "execution_count": 9,
     "metadata": {},
     "output_type": "execute_result"
    }
   ],
   "source": [
    "df.iloc[277].meta"
   ]
  },
  {
   "cell_type": "code",
   "execution_count": 6,
   "id": "8d11b7e6",
   "metadata": {},
   "outputs": [
    {
     "data": {
      "text/html": [
       "<div>\n",
       "<style scoped>\n",
       "    .dataframe tbody tr th:only-of-type {\n",
       "        vertical-align: middle;\n",
       "    }\n",
       "\n",
       "    .dataframe tbody tr th {\n",
       "        vertical-align: top;\n",
       "    }\n",
       "\n",
       "    .dataframe thead th {\n",
       "        text-align: right;\n",
       "    }\n",
       "</style>\n",
       "<table border=\"1\" class=\"dataframe\">\n",
       "  <thead>\n",
       "    <tr style=\"text-align: right;\">\n",
       "      <th></th>\n",
       "      <th>user_id</th>\n",
       "      <th>platform</th>\n",
       "      <th>_modified</th>\n",
       "    </tr>\n",
       "  </thead>\n",
       "  <tbody>\n",
       "    <tr>\n",
       "      <th>count</th>\n",
       "      <td>5479.0</td>\n",
       "      <td>5479.000000</td>\n",
       "      <td>5.479000e+03</td>\n",
       "    </tr>\n",
       "    <tr>\n",
       "      <th>mean</th>\n",
       "      <td>125880.0</td>\n",
       "      <td>8.957291</td>\n",
       "      <td>1.616696e+09</td>\n",
       "    </tr>\n",
       "    <tr>\n",
       "      <th>std</th>\n",
       "      <td>0.0</td>\n",
       "      <td>0.504454</td>\n",
       "      <td>4.954723e+06</td>\n",
       "    </tr>\n",
       "    <tr>\n",
       "      <th>min</th>\n",
       "      <td>125880.0</td>\n",
       "      <td>3.000000</td>\n",
       "      <td>1.616318e+09</td>\n",
       "    </tr>\n",
       "    <tr>\n",
       "      <th>25%</th>\n",
       "      <td>125880.0</td>\n",
       "      <td>9.000000</td>\n",
       "      <td>1.616318e+09</td>\n",
       "    </tr>\n",
       "    <tr>\n",
       "      <th>50%</th>\n",
       "      <td>125880.0</td>\n",
       "      <td>9.000000</td>\n",
       "      <td>1.616318e+09</td>\n",
       "    </tr>\n",
       "    <tr>\n",
       "      <th>75%</th>\n",
       "      <td>125880.0</td>\n",
       "      <td>9.000000</td>\n",
       "      <td>1.616318e+09</td>\n",
       "    </tr>\n",
       "    <tr>\n",
       "      <th>max</th>\n",
       "      <td>125880.0</td>\n",
       "      <td>9.000000</td>\n",
       "      <td>1.697745e+09</td>\n",
       "    </tr>\n",
       "  </tbody>\n",
       "</table>\n",
       "</div>"
      ],
      "text/plain": [
       "        user_id     platform     _modified\n",
       "count    5479.0  5479.000000  5.479000e+03\n",
       "mean   125880.0     8.957291  1.616696e+09\n",
       "std         0.0     0.504454  4.954723e+06\n",
       "min    125880.0     3.000000  1.616318e+09\n",
       "25%    125880.0     9.000000  1.616318e+09\n",
       "50%    125880.0     9.000000  1.616318e+09\n",
       "75%    125880.0     9.000000  1.616318e+09\n",
       "max    125880.0     9.000000  1.697745e+09"
      ]
     },
     "execution_count": 6,
     "metadata": {},
     "output_type": "execute_result"
    }
   ],
   "source": [
    "df.describe()"
   ]
  },
  {
   "cell_type": "code",
   "execution_count": 7,
   "id": "a8e05108",
   "metadata": {},
   "outputs": [
    {
     "data": {
      "text/plain": [
       "array(['Aircraft', 'aircraft', 'Airfield', 'airfield', 'Flight', 'flight',\n",
       "       'imagepic', 'LimitRules', 'myQuery', 'myQueryBuild', 'Pilot',\n",
       "       'pilot', 'Qualification', 'SettingConfig'], dtype=object)"
      ]
     },
     "execution_count": 7,
     "metadata": {},
     "output_type": "execute_result"
    }
   ],
   "source": [
    "# check unique table values\n",
    "df['table'].unique()"
   ]
  },
  {
   "cell_type": "code",
   "execution_count": 8,
   "id": "32a61616",
   "metadata": {},
   "outputs": [
    {
     "data": {
      "text/plain": [
       "dict_keys(['Fin', 'Sea', 'TMG', 'Efis', 'FNPT', 'Make', 'Run2', 'Class', 'Model', 'Power', 'Seats', 'Active', 'Kg5700', 'Rating', 'Company', 'Complex', 'CondLog', 'FavList', 'Category', 'HighPerf', 'SubModel', 'Aerobatic', 'RefSearch', 'Reference', 'Tailwheel', 'DefaultApp', 'DefaultLog', 'DefaultOps', 'DeviceCode', 'AircraftCode', 'DefaultLaunch', 'Record_Modified'])"
      ]
     },
     "execution_count": 8,
     "metadata": {},
     "output_type": "execute_result"
    }
   ],
   "source": [
    "# dict keys of Aircraft\n",
    "aircraft_meta1 = df[df['table'] == 'Aircraft']['meta'].iloc[0].keys()\n",
    "aircraft_meta1"
   ]
  },
  {
   "cell_type": "code",
   "execution_count": 9,
   "id": "136ac639",
   "metadata": {},
   "outputs": [
    {
     "data": {
      "text/plain": [
       "dict_keys(['Fin', 'Sea', 'TMG', 'Efis', 'FNPT', 'Make', 'Run2', 'Class', 'Model', 'Power', 'Seats', 'Active', 'Kg5700', 'Rating', 'Company', 'Complex', 'CondLog', 'EngType', 'FavList', 'Category', 'EngGroup', 'HighPerf', 'SubModel', 'Aerobatic', 'RefSearch', 'Reference', 'Tailwheel', 'DefaultApp', 'DefaultLog', 'DefaultOps', 'DeviceCode', 'AircraftCode', 'DefaultLaunch', 'Record_Modified'])"
      ]
     },
     "execution_count": 9,
     "metadata": {},
     "output_type": "execute_result"
    }
   ],
   "source": [
    "# dict keys of aircraft\n",
    "aircraft_meta2 = df[df['table'] == 'aircraft']['meta'].iloc[0].keys()\n",
    "aircraft_meta2"
   ]
  },
  {
   "cell_type": "code",
   "execution_count": 10,
   "id": "6f66df49",
   "metadata": {},
   "outputs": [
    {
     "data": {
      "text/plain": [
       "{'EngGroup', 'EngType'}"
      ]
     },
     "execution_count": 10,
     "metadata": {},
     "output_type": "execute_result"
    }
   ],
   "source": [
    "# difference between Aircraft and aircraft tables\n",
    "aircraft_meta2 - aircraft_meta1"
   ]
  },
  {
   "cell_type": "code",
   "execution_count": 11,
   "id": "3a60fdd0",
   "metadata": {},
   "outputs": [
    {
     "data": {
      "text/plain": [
       "dict_keys(['PF', 'Pax', 'Fuel', 'DeIce', 'Route', 'ToDay', 'minU1', 'minU2', 'minU3', 'minU4', 'minXC', 'ArrRwy', 'DepRwy', 'LdgDay', 'LiftSW', 'P1Code', 'P2Code', 'P3Code', 'P4Code', 'Report', 'TagOps', 'ToEdit', 'minAIR', 'minCOP', 'minIFR', 'minIMT', 'minPIC', 'minREL', 'minSFR', 'ArrCode', 'DateUTC', 'DepCode', 'HobbsIn', 'Holding', 'Pairing', 'Remarks', 'SignBox', 'ToNight', 'UserNum', 'minDUAL', 'minEXAM', 'CrewList', 'DateBASE', 'FuelUsed', 'HobbsOut', 'LdgNight', 'NextPage', 'TagDelay', 'Training', 'UserBool', 'UserText', 'minINSTR', 'minNIGHT', 'minPICUS', 'minTOTAL', 'ArrOffset', 'DateLOCAL', 'DepOffset', 'TagLaunch', 'TagLesson', 'ToTimeUTC', 'ArrTimeUTC', 'BaseOffset', 'DepTimeUTC', 'FlightCode', 'LdgTimeUTC', 'FuelPlanned', 'NextSummary', 'TagApproach', 'AircraftCode', 'ArrTimeSCHED', 'DepTimeSCHED', 'FlightNumber', 'FlightSearch', 'Record_Modified'])"
      ]
     },
     "execution_count": 11,
     "metadata": {},
     "output_type": "execute_result"
    }
   ],
   "source": [
    "flight_meta1 = df[df['table'] == 'Flight']['meta'].iloc[0].keys()\n",
    "flight_meta1"
   ]
  },
  {
   "cell_type": "code",
   "execution_count": 12,
   "id": "db124093",
   "metadata": {},
   "outputs": [
    {
     "data": {
      "text/plain": [
       "dict_keys(['PF', 'Pax', 'Fuel', 'Cargo', 'DeIce', 'Route', 'ToDay', 'minU1', 'minU2', 'minU3', 'minU4', 'minXC', 'ArrRwy', 'DepRwy', 'LdgDay', 'LiftSW', 'P1Code', 'P2Code', 'P3Code', 'P4Code', 'Report', 'TagOps', 'ToEdit', 'minAIR', 'minCOP', 'minIFR', 'minIMT', 'minPIC', 'minREL', 'minSFR', 'ArrCode', 'DateUTC', 'DepCode', 'HobbsIn', 'Holding', 'Pairing', 'Remarks', 'SignBox', 'ToNight', 'UserNum', 'minDUAL', 'minEXAM', 'CrewList', 'DateBASE', 'FuelUsed', 'HobbsOut', 'LdgNight', 'NextPage', 'TagDelay', 'Training', 'UserBool', 'UserText', 'minINSTR', 'minNIGHT', 'minPICUS', 'minTOTAL', 'ArrOffset', 'DateLOCAL', 'DepOffset', 'TagLaunch', 'TagLesson', 'ToTimeUTC', 'ArrTimeUTC', 'BaseOffset', 'DepTimeUTC', 'FlightCode', 'LdgTimeUTC', 'FuelPlanned', 'NextSummary', 'TagApproach', 'AircraftCode', 'ArrTimeSCHED', 'DepTimeSCHED', 'FlightNumber', 'FlightSearch', 'Record_Modified'])"
      ]
     },
     "execution_count": 12,
     "metadata": {},
     "output_type": "execute_result"
    }
   ],
   "source": [
    "flight_meta2 = df[df['table'] == 'flight']['meta'].iloc[0].keys()\n",
    "flight_meta2"
   ]
  },
  {
   "cell_type": "code",
   "execution_count": 13,
   "id": "0de5a9e0",
   "metadata": {},
   "outputs": [
    {
     "data": {
      "text/plain": [
       "{'Cargo'}"
      ]
     },
     "execution_count": 13,
     "metadata": {},
     "output_type": "execute_result"
    }
   ],
   "source": [
    "flight_meta2 - flight_meta1"
   ]
  },
  {
   "cell_type": "code",
   "execution_count": 14,
   "id": "8eb44d2f",
   "metadata": {},
   "outputs": [
    {
     "data": {
      "text/plain": [
       "dict_keys(['City', 'AFCat', 'AFFAA', 'Notes', 'AFCode', 'AFIATA', 'AFICAO', 'AFName', 'TZCode', 'Latitude', 'ShowList', 'UserEdit', 'AFCountry', 'Longitude', 'NotesUser', 'RegionUser', 'ElevationFT', 'Record_Modified'])"
      ]
     },
     "execution_count": 14,
     "metadata": {},
     "output_type": "execute_result"
    }
   ],
   "source": [
    "# dict keys of airfield\n",
    "airfield_meta1 = df[df['table'] == 'airfield']['meta'].iloc[0].keys()\n",
    "airfield_meta1"
   ]
  },
  {
   "cell_type": "code",
   "execution_count": 15,
   "id": "fc1f2446",
   "metadata": {},
   "outputs": [
    {
     "data": {
      "text/plain": [
       "dict_keys(['AFCat', 'AFCode', 'AFIATA', 'AFICAO', 'AFName', 'TZCode', 'Latitude', 'ShowList', 'AFCountry', 'Longitude', 'NotesUser', 'RegionUser', 'ElevationFT', 'Record_Modified'])"
      ]
     },
     "execution_count": 15,
     "metadata": {},
     "output_type": "execute_result"
    }
   ],
   "source": [
    "# dict keys of Airfield\n",
    "airfield_meta2 = df[df['table'] == 'Airfield']['meta'].iloc[0].keys()\n",
    "airfield_meta2"
   ]
  },
  {
   "cell_type": "code",
   "execution_count": 16,
   "id": "5636143a",
   "metadata": {},
   "outputs": [
    {
     "data": {
      "text/plain": [
       "{'AFFAA', 'City', 'Notes', 'UserEdit'}"
      ]
     },
     "execution_count": 16,
     "metadata": {},
     "output_type": "execute_result"
    }
   ],
   "source": [
    "airfield_meta1 - airfield_meta2"
   ]
  },
  {
   "cell_type": "code",
   "execution_count": 17,
   "id": "a183fb3a",
   "metadata": {},
   "outputs": [
    {
     "data": {
      "text/plain": [
       "dict_keys(['Notes', 'Active', 'Company', 'FavList', 'UserAPI', 'Facebook', 'LinkedIn', 'PilotRef', 'PilotCode', 'PilotName', 'PilotEMail', 'PilotPhone', 'Certificate', 'PhoneSearch', 'PilotSearch', 'RosterAlias', 'Record_Modified'])"
      ]
     },
     "execution_count": 17,
     "metadata": {},
     "output_type": "execute_result"
    }
   ],
   "source": [
    "# dict keys of pilot\n",
    "pilot_meta1 = df[df['table'] == 'pilot']['meta'].iloc[0].keys()\n",
    "pilot_meta1"
   ]
  },
  {
   "cell_type": "code",
   "execution_count": 18,
   "id": "98686c23",
   "metadata": {},
   "outputs": [
    {
     "data": {
      "text/plain": [
       "dict_keys(['Notes', 'Active', 'Company', 'FavList', 'UserAPI', 'Facebook', 'LinkedIn', 'PilotRef', 'PilotCode', 'PilotName', 'PilotEMail', 'PilotPhone', 'Certificate', 'PhoneSearch', 'PilotSearch', 'RosterAlias', 'Record_Modified'])"
      ]
     },
     "execution_count": 18,
     "metadata": {},
     "output_type": "execute_result"
    }
   ],
   "source": [
    "# dict keys of Pilot\n",
    "pilot_meta2 = df[df['table'] == 'Pilot']['meta'].iloc[0].keys()\n",
    "pilot_meta2"
   ]
  },
  {
   "cell_type": "code",
   "execution_count": 19,
   "id": "44aa814d",
   "metadata": {},
   "outputs": [
    {
     "data": {
      "text/plain": [
       "True"
      ]
     },
     "execution_count": 19,
     "metadata": {},
     "output_type": "execute_result"
    }
   ],
   "source": [
    "# check if there is a difference in keys between pilot and Pilot tables\n",
    "pilot_meta1 == pilot_meta2"
   ]
  },
  {
   "cell_type": "code",
   "execution_count": 20,
   "id": "c1bbeda2",
   "metadata": {},
   "outputs": [],
   "source": [
    "# join table values\n",
    "df['table'] = df['table'].replace(['Aircraft', 'Airfield', 'Flight', 'Pilot'], ['aircraft', 'airfield', 'flight', 'pilot'])"
   ]
  },
  {
   "cell_type": "code",
   "execution_count": 21,
   "id": "35fa0752",
   "metadata": {},
   "outputs": [
    {
     "data": {
      "text/plain": [
       "array(['aircraft', 'airfield', 'flight', 'pilot'], dtype=object)"
      ]
     },
     "execution_count": 21,
     "metadata": {},
     "output_type": "execute_result"
    }
   ],
   "source": [
    "# drop unused rows for the export\n",
    "df = df[~df['table'].isin(['imagepic', 'LimitRules', 'myQuery', 'myQueryBuild','Qualification', 'SettingConfig'])]\n",
    "df.table.unique()"
   ]
  },
  {
   "cell_type": "code",
   "execution_count": 22,
   "id": "26b1a106",
   "metadata": {},
   "outputs": [],
   "source": [
    "# drop unused columns for the export\n",
    "df.drop(['user_id', 'platform', '_modified'], axis=1, inplace=True)"
   ]
  },
  {
   "cell_type": "code",
   "execution_count": 23,
   "id": "7f4d2f3d",
   "metadata": {},
   "outputs": [
    {
     "data": {
      "text/html": [
       "<div>\n",
       "<style scoped>\n",
       "    .dataframe tbody tr th:only-of-type {\n",
       "        vertical-align: middle;\n",
       "    }\n",
       "\n",
       "    .dataframe tbody tr th {\n",
       "        vertical-align: top;\n",
       "    }\n",
       "\n",
       "    .dataframe thead th {\n",
       "        text-align: right;\n",
       "    }\n",
       "</style>\n",
       "<table border=\"1\" class=\"dataframe\">\n",
       "  <thead>\n",
       "    <tr style=\"text-align: right;\">\n",
       "      <th></th>\n",
       "      <th>table</th>\n",
       "      <th>guid</th>\n",
       "      <th>meta</th>\n",
       "    </tr>\n",
       "  </thead>\n",
       "  <tbody>\n",
       "    <tr>\n",
       "      <th>0</th>\n",
       "      <td>aircraft</td>\n",
       "      <td>00000000-0000-0000-0000-000000000367</td>\n",
       "      <td>{'Fin': '', 'Sea': False, 'TMG': False, 'Efis'...</td>\n",
       "    </tr>\n",
       "    <tr>\n",
       "      <th>1</th>\n",
       "      <td>aircraft</td>\n",
       "      <td>00000000-0000-0000-0000-000000000368</td>\n",
       "      <td>{'Fin': '', 'Sea': False, 'TMG': False, 'Efis'...</td>\n",
       "    </tr>\n",
       "    <tr>\n",
       "      <th>2</th>\n",
       "      <td>aircraft</td>\n",
       "      <td>00000000-0000-0000-0000-000000000369</td>\n",
       "      <td>{'Fin': '', 'Sea': False, 'TMG': False, 'Efis'...</td>\n",
       "    </tr>\n",
       "    <tr>\n",
       "      <th>3</th>\n",
       "      <td>aircraft</td>\n",
       "      <td>00000000-0000-0000-0000-000000000370</td>\n",
       "      <td>{'Fin': '', 'Sea': False, 'TMG': False, 'Efis'...</td>\n",
       "    </tr>\n",
       "    <tr>\n",
       "      <th>4</th>\n",
       "      <td>aircraft</td>\n",
       "      <td>00000000-0000-0000-0000-000000000371</td>\n",
       "      <td>{'Fin': '', 'Sea': False, 'TMG': False, 'Efis'...</td>\n",
       "    </tr>\n",
       "  </tbody>\n",
       "</table>\n",
       "</div>"
      ],
      "text/plain": [
       "      table                                  guid  \\\n",
       "0  aircraft  00000000-0000-0000-0000-000000000367   \n",
       "1  aircraft  00000000-0000-0000-0000-000000000368   \n",
       "2  aircraft  00000000-0000-0000-0000-000000000369   \n",
       "3  aircraft  00000000-0000-0000-0000-000000000370   \n",
       "4  aircraft  00000000-0000-0000-0000-000000000371   \n",
       "\n",
       "                                                meta  \n",
       "0  {'Fin': '', 'Sea': False, 'TMG': False, 'Efis'...  \n",
       "1  {'Fin': '', 'Sea': False, 'TMG': False, 'Efis'...  \n",
       "2  {'Fin': '', 'Sea': False, 'TMG': False, 'Efis'...  \n",
       "3  {'Fin': '', 'Sea': False, 'TMG': False, 'Efis'...  \n",
       "4  {'Fin': '', 'Sea': False, 'TMG': False, 'Efis'...  "
      ]
     },
     "execution_count": 23,
     "metadata": {},
     "output_type": "execute_result"
    }
   ],
   "source": [
    "df.head()"
   ]
  },
  {
   "cell_type": "code",
   "execution_count": 24,
   "id": "c31e80d2",
   "metadata": {},
   "outputs": [
    {
     "data": {
      "text/plain": [
       "(5286, 3)"
      ]
     },
     "execution_count": 24,
     "metadata": {},
     "output_type": "execute_result"
    }
   ],
   "source": [
    "# final shape of dataframe\n",
    "df.shape"
   ]
  },
  {
   "cell_type": "code",
   "execution_count": 25,
   "id": "3d2075d9",
   "metadata": {},
   "outputs": [],
   "source": [
    "# Separate the unique 'meta' values into a new DataFrame\n",
    "meta_df = pd.json_normalize(df['meta'])"
   ]
  },
  {
   "cell_type": "code",
   "execution_count": 26,
   "id": "100d0752",
   "metadata": {},
   "outputs": [
    {
     "data": {
      "text/html": [
       "<div>\n",
       "<style scoped>\n",
       "    .dataframe tbody tr th:only-of-type {\n",
       "        vertical-align: middle;\n",
       "    }\n",
       "\n",
       "    .dataframe tbody tr th {\n",
       "        vertical-align: top;\n",
       "    }\n",
       "\n",
       "    .dataframe thead th {\n",
       "        text-align: right;\n",
       "    }\n",
       "</style>\n",
       "<table border=\"1\" class=\"dataframe\">\n",
       "  <thead>\n",
       "    <tr style=\"text-align: right;\">\n",
       "      <th></th>\n",
       "      <th>Fin</th>\n",
       "      <th>Sea</th>\n",
       "      <th>TMG</th>\n",
       "      <th>Efis</th>\n",
       "      <th>FNPT</th>\n",
       "      <th>Make</th>\n",
       "      <th>Run2</th>\n",
       "      <th>Class</th>\n",
       "      <th>Model</th>\n",
       "      <th>Power</th>\n",
       "      <th>...</th>\n",
       "      <th>LinkedIn</th>\n",
       "      <th>PilotRef</th>\n",
       "      <th>PilotCode</th>\n",
       "      <th>PilotName</th>\n",
       "      <th>PilotEMail</th>\n",
       "      <th>PilotPhone</th>\n",
       "      <th>Certificate</th>\n",
       "      <th>PhoneSearch</th>\n",
       "      <th>PilotSearch</th>\n",
       "      <th>RosterAlias</th>\n",
       "    </tr>\n",
       "  </thead>\n",
       "  <tbody>\n",
       "    <tr>\n",
       "      <th>0</th>\n",
       "      <td></td>\n",
       "      <td>False</td>\n",
       "      <td>False</td>\n",
       "      <td>False</td>\n",
       "      <td>0.0</td>\n",
       "      <td>Cessna</td>\n",
       "      <td>False</td>\n",
       "      <td>5.0</td>\n",
       "      <td>C150</td>\n",
       "      <td>1.0</td>\n",
       "      <td>...</td>\n",
       "      <td>NaN</td>\n",
       "      <td>NaN</td>\n",
       "      <td>NaN</td>\n",
       "      <td>NaN</td>\n",
       "      <td>NaN</td>\n",
       "      <td>NaN</td>\n",
       "      <td>NaN</td>\n",
       "      <td>NaN</td>\n",
       "      <td>NaN</td>\n",
       "      <td>NaN</td>\n",
       "    </tr>\n",
       "    <tr>\n",
       "      <th>1</th>\n",
       "      <td></td>\n",
       "      <td>False</td>\n",
       "      <td>False</td>\n",
       "      <td>False</td>\n",
       "      <td>0.0</td>\n",
       "      <td>Cessna</td>\n",
       "      <td>False</td>\n",
       "      <td>5.0</td>\n",
       "      <td>C150</td>\n",
       "      <td>1.0</td>\n",
       "      <td>...</td>\n",
       "      <td>NaN</td>\n",
       "      <td>NaN</td>\n",
       "      <td>NaN</td>\n",
       "      <td>NaN</td>\n",
       "      <td>NaN</td>\n",
       "      <td>NaN</td>\n",
       "      <td>NaN</td>\n",
       "      <td>NaN</td>\n",
       "      <td>NaN</td>\n",
       "      <td>NaN</td>\n",
       "    </tr>\n",
       "    <tr>\n",
       "      <th>2</th>\n",
       "      <td></td>\n",
       "      <td>False</td>\n",
       "      <td>False</td>\n",
       "      <td>False</td>\n",
       "      <td>0.0</td>\n",
       "      <td>Cessna</td>\n",
       "      <td>False</td>\n",
       "      <td>5.0</td>\n",
       "      <td>C150</td>\n",
       "      <td>1.0</td>\n",
       "      <td>...</td>\n",
       "      <td>NaN</td>\n",
       "      <td>NaN</td>\n",
       "      <td>NaN</td>\n",
       "      <td>NaN</td>\n",
       "      <td>NaN</td>\n",
       "      <td>NaN</td>\n",
       "      <td>NaN</td>\n",
       "      <td>NaN</td>\n",
       "      <td>NaN</td>\n",
       "      <td>NaN</td>\n",
       "    </tr>\n",
       "    <tr>\n",
       "      <th>3</th>\n",
       "      <td></td>\n",
       "      <td>False</td>\n",
       "      <td>False</td>\n",
       "      <td>False</td>\n",
       "      <td>0.0</td>\n",
       "      <td>Cessna</td>\n",
       "      <td>False</td>\n",
       "      <td>5.0</td>\n",
       "      <td>C150</td>\n",
       "      <td>1.0</td>\n",
       "      <td>...</td>\n",
       "      <td>NaN</td>\n",
       "      <td>NaN</td>\n",
       "      <td>NaN</td>\n",
       "      <td>NaN</td>\n",
       "      <td>NaN</td>\n",
       "      <td>NaN</td>\n",
       "      <td>NaN</td>\n",
       "      <td>NaN</td>\n",
       "      <td>NaN</td>\n",
       "      <td>NaN</td>\n",
       "    </tr>\n",
       "    <tr>\n",
       "      <th>4</th>\n",
       "      <td></td>\n",
       "      <td>False</td>\n",
       "      <td>False</td>\n",
       "      <td>False</td>\n",
       "      <td>0.0</td>\n",
       "      <td>Cessna</td>\n",
       "      <td>False</td>\n",
       "      <td>5.0</td>\n",
       "      <td>C150</td>\n",
       "      <td>1.0</td>\n",
       "      <td>...</td>\n",
       "      <td>NaN</td>\n",
       "      <td>NaN</td>\n",
       "      <td>NaN</td>\n",
       "      <td>NaN</td>\n",
       "      <td>NaN</td>\n",
       "      <td>NaN</td>\n",
       "      <td>NaN</td>\n",
       "      <td>NaN</td>\n",
       "      <td>NaN</td>\n",
       "      <td>NaN</td>\n",
       "    </tr>\n",
       "  </tbody>\n",
       "</table>\n",
       "<p>5 rows × 137 columns</p>\n",
       "</div>"
      ],
      "text/plain": [
       "  Fin    Sea    TMG   Efis  FNPT    Make   Run2  Class Model  Power  ...  \\\n",
       "0      False  False  False   0.0  Cessna  False    5.0  C150    1.0  ...   \n",
       "1      False  False  False   0.0  Cessna  False    5.0  C150    1.0  ...   \n",
       "2      False  False  False   0.0  Cessna  False    5.0  C150    1.0  ...   \n",
       "3      False  False  False   0.0  Cessna  False    5.0  C150    1.0  ...   \n",
       "4      False  False  False   0.0  Cessna  False    5.0  C150    1.0  ...   \n",
       "\n",
       "   LinkedIn PilotRef PilotCode PilotName PilotEMail PilotPhone  Certificate  \\\n",
       "0       NaN      NaN       NaN       NaN        NaN        NaN          NaN   \n",
       "1       NaN      NaN       NaN       NaN        NaN        NaN          NaN   \n",
       "2       NaN      NaN       NaN       NaN        NaN        NaN          NaN   \n",
       "3       NaN      NaN       NaN       NaN        NaN        NaN          NaN   \n",
       "4       NaN      NaN       NaN       NaN        NaN        NaN          NaN   \n",
       "\n",
       "  PhoneSearch  PilotSearch RosterAlias  \n",
       "0         NaN          NaN         NaN  \n",
       "1         NaN          NaN         NaN  \n",
       "2         NaN          NaN         NaN  \n",
       "3         NaN          NaN         NaN  \n",
       "4         NaN          NaN         NaN  \n",
       "\n",
       "[5 rows x 137 columns]"
      ]
     },
     "execution_count": 26,
     "metadata": {},
     "output_type": "execute_result"
    }
   ],
   "source": [
    "meta_df.head()"
   ]
  },
  {
   "cell_type": "code",
   "execution_count": 27,
   "id": "570b4f7e",
   "metadata": {},
   "outputs": [
    {
     "data": {
      "text/html": [
       "<div>\n",
       "<style scoped>\n",
       "    .dataframe tbody tr th:only-of-type {\n",
       "        vertical-align: middle;\n",
       "    }\n",
       "\n",
       "    .dataframe tbody tr th {\n",
       "        vertical-align: top;\n",
       "    }\n",
       "\n",
       "    .dataframe thead th {\n",
       "        text-align: right;\n",
       "    }\n",
       "</style>\n",
       "<table border=\"1\" class=\"dataframe\">\n",
       "  <thead>\n",
       "    <tr style=\"text-align: right;\">\n",
       "      <th></th>\n",
       "      <th>FNPT</th>\n",
       "      <th>Class</th>\n",
       "      <th>Power</th>\n",
       "      <th>Seats</th>\n",
       "      <th>CondLog</th>\n",
       "      <th>Category</th>\n",
       "      <th>DefaultApp</th>\n",
       "      <th>DefaultLog</th>\n",
       "      <th>DefaultOps</th>\n",
       "      <th>DeviceCode</th>\n",
       "      <th>...</th>\n",
       "      <th>DepOffset</th>\n",
       "      <th>ToTimeUTC</th>\n",
       "      <th>ArrTimeUTC</th>\n",
       "      <th>BaseOffset</th>\n",
       "      <th>DepTimeUTC</th>\n",
       "      <th>LdgTimeUTC</th>\n",
       "      <th>FuelPlanned</th>\n",
       "      <th>ArrTimeSCHED</th>\n",
       "      <th>DepTimeSCHED</th>\n",
       "      <th>Cargo</th>\n",
       "    </tr>\n",
       "  </thead>\n",
       "  <tbody>\n",
       "    <tr>\n",
       "      <th>count</th>\n",
       "      <td>270.000000</td>\n",
       "      <td>270.000000</td>\n",
       "      <td>270.000000</td>\n",
       "      <td>270.000000</td>\n",
       "      <td>270.000000</td>\n",
       "      <td>270.000000</td>\n",
       "      <td>270.000000</td>\n",
       "      <td>270.000000</td>\n",
       "      <td>270.0</td>\n",
       "      <td>270.000000</td>\n",
       "      <td>...</td>\n",
       "      <td>4492.000000</td>\n",
       "      <td>4492.000000</td>\n",
       "      <td>4492.000000</td>\n",
       "      <td>4492.000000</td>\n",
       "      <td>4492.000000</td>\n",
       "      <td>4492.000000</td>\n",
       "      <td>4492.0</td>\n",
       "      <td>4492.000000</td>\n",
       "      <td>4492.000000</td>\n",
       "      <td>17.0</td>\n",
       "    </tr>\n",
       "    <tr>\n",
       "      <th>mean</th>\n",
       "      <td>0.251852</td>\n",
       "      <td>4.985185</td>\n",
       "      <td>4.622222</td>\n",
       "      <td>29.333333</td>\n",
       "      <td>64.522222</td>\n",
       "      <td>1.700000</td>\n",
       "      <td>65.348148</td>\n",
       "      <td>1.392593</td>\n",
       "      <td>0.0</td>\n",
       "      <td>1.111111</td>\n",
       "      <td>...</td>\n",
       "      <td>82.925200</td>\n",
       "      <td>1.445013</td>\n",
       "      <td>751.612867</td>\n",
       "      <td>86.332814</td>\n",
       "      <td>671.940338</td>\n",
       "      <td>1.232858</td>\n",
       "      <td>0.0</td>\n",
       "      <td>-0.000890</td>\n",
       "      <td>-0.000890</td>\n",
       "      <td>0.0</td>\n",
       "    </tr>\n",
       "    <tr>\n",
       "      <th>std</th>\n",
       "      <td>1.909548</td>\n",
       "      <td>0.243432</td>\n",
       "      <td>2.175793</td>\n",
       "      <td>66.603192</td>\n",
       "      <td>19.307275</td>\n",
       "      <td>0.459109</td>\n",
       "      <td>148.377110</td>\n",
       "      <td>0.685444</td>\n",
       "      <td>0.0</td>\n",
       "      <td>0.326447</td>\n",
       "      <td>...</td>\n",
       "      <td>96.979733</td>\n",
       "      <td>38.409852</td>\n",
       "      <td>405.441657</td>\n",
       "      <td>71.568889</td>\n",
       "      <td>379.485783</td>\n",
       "      <td>35.241630</td>\n",
       "      <td>0.0</td>\n",
       "      <td>0.029831</td>\n",
       "      <td>0.029831</td>\n",
       "      <td>0.0</td>\n",
       "    </tr>\n",
       "    <tr>\n",
       "      <th>min</th>\n",
       "      <td>0.000000</td>\n",
       "      <td>1.000000</td>\n",
       "      <td>0.000000</td>\n",
       "      <td>0.000000</td>\n",
       "      <td>0.000000</td>\n",
       "      <td>1.000000</td>\n",
       "      <td>0.000000</td>\n",
       "      <td>0.000000</td>\n",
       "      <td>0.0</td>\n",
       "      <td>1.000000</td>\n",
       "      <td>...</td>\n",
       "      <td>-480.000000</td>\n",
       "      <td>-1.000000</td>\n",
       "      <td>0.000000</td>\n",
       "      <td>-99.000000</td>\n",
       "      <td>0.000000</td>\n",
       "      <td>-1.000000</td>\n",
       "      <td>0.0</td>\n",
       "      <td>-1.000000</td>\n",
       "      <td>-1.000000</td>\n",
       "      <td>0.0</td>\n",
       "    </tr>\n",
       "    <tr>\n",
       "      <th>25%</th>\n",
       "      <td>0.000000</td>\n",
       "      <td>5.000000</td>\n",
       "      <td>1.000000</td>\n",
       "      <td>0.000000</td>\n",
       "      <td>69.000000</td>\n",
       "      <td>1.000000</td>\n",
       "      <td>0.000000</td>\n",
       "      <td>1.000000</td>\n",
       "      <td>0.0</td>\n",
       "      <td>1.000000</td>\n",
       "      <td>...</td>\n",
       "      <td>60.000000</td>\n",
       "      <td>0.000000</td>\n",
       "      <td>465.000000</td>\n",
       "      <td>60.000000</td>\n",
       "      <td>385.000000</td>\n",
       "      <td>0.000000</td>\n",
       "      <td>0.0</td>\n",
       "      <td>0.000000</td>\n",
       "      <td>0.000000</td>\n",
       "      <td>0.0</td>\n",
       "    </tr>\n",
       "    <tr>\n",
       "      <th>50%</th>\n",
       "      <td>0.000000</td>\n",
       "      <td>5.000000</td>\n",
       "      <td>6.000000</td>\n",
       "      <td>0.000000</td>\n",
       "      <td>69.000000</td>\n",
       "      <td>2.000000</td>\n",
       "      <td>0.000000</td>\n",
       "      <td>1.000000</td>\n",
       "      <td>0.0</td>\n",
       "      <td>1.000000</td>\n",
       "      <td>...</td>\n",
       "      <td>120.000000</td>\n",
       "      <td>0.000000</td>\n",
       "      <td>780.000000</td>\n",
       "      <td>120.000000</td>\n",
       "      <td>700.000000</td>\n",
       "      <td>0.000000</td>\n",
       "      <td>0.0</td>\n",
       "      <td>0.000000</td>\n",
       "      <td>0.000000</td>\n",
       "      <td>0.0</td>\n",
       "    </tr>\n",
       "    <tr>\n",
       "      <th>75%</th>\n",
       "      <td>0.000000</td>\n",
       "      <td>5.000000</td>\n",
       "      <td>6.000000</td>\n",
       "      <td>0.000000</td>\n",
       "      <td>69.000000</td>\n",
       "      <td>2.000000</td>\n",
       "      <td>0.000000</td>\n",
       "      <td>2.000000</td>\n",
       "      <td>0.0</td>\n",
       "      <td>1.000000</td>\n",
       "      <td>...</td>\n",
       "      <td>120.000000</td>\n",
       "      <td>0.000000</td>\n",
       "      <td>1080.250000</td>\n",
       "      <td>120.000000</td>\n",
       "      <td>980.000000</td>\n",
       "      <td>0.000000</td>\n",
       "      <td>0.0</td>\n",
       "      <td>0.000000</td>\n",
       "      <td>0.000000</td>\n",
       "      <td>0.0</td>\n",
       "    </tr>\n",
       "    <tr>\n",
       "      <th>max</th>\n",
       "      <td>18.000000</td>\n",
       "      <td>5.000000</td>\n",
       "      <td>6.000000</td>\n",
       "      <td>180.000000</td>\n",
       "      <td>128.000000</td>\n",
       "      <td>2.000000</td>\n",
       "      <td>401.000000</td>\n",
       "      <td>4.000000</td>\n",
       "      <td>0.0</td>\n",
       "      <td>3.000000</td>\n",
       "      <td>...</td>\n",
       "      <td>300.000000</td>\n",
       "      <td>1330.000000</td>\n",
       "      <td>1439.000000</td>\n",
       "      <td>180.000000</td>\n",
       "      <td>1436.000000</td>\n",
       "      <td>1380.000000</td>\n",
       "      <td>0.0</td>\n",
       "      <td>0.000000</td>\n",
       "      <td>0.000000</td>\n",
       "      <td>0.0</td>\n",
       "    </tr>\n",
       "  </tbody>\n",
       "</table>\n",
       "<p>8 rows × 63 columns</p>\n",
       "</div>"
      ],
      "text/plain": [
       "             FNPT       Class       Power       Seats     CondLog    Category  \\\n",
       "count  270.000000  270.000000  270.000000  270.000000  270.000000  270.000000   \n",
       "mean     0.251852    4.985185    4.622222   29.333333   64.522222    1.700000   \n",
       "std      1.909548    0.243432    2.175793   66.603192   19.307275    0.459109   \n",
       "min      0.000000    1.000000    0.000000    0.000000    0.000000    1.000000   \n",
       "25%      0.000000    5.000000    1.000000    0.000000   69.000000    1.000000   \n",
       "50%      0.000000    5.000000    6.000000    0.000000   69.000000    2.000000   \n",
       "75%      0.000000    5.000000    6.000000    0.000000   69.000000    2.000000   \n",
       "max     18.000000    5.000000    6.000000  180.000000  128.000000    2.000000   \n",
       "\n",
       "       DefaultApp  DefaultLog  DefaultOps  DeviceCode  ...    DepOffset  \\\n",
       "count  270.000000  270.000000       270.0  270.000000  ...  4492.000000   \n",
       "mean    65.348148    1.392593         0.0    1.111111  ...    82.925200   \n",
       "std    148.377110    0.685444         0.0    0.326447  ...    96.979733   \n",
       "min      0.000000    0.000000         0.0    1.000000  ...  -480.000000   \n",
       "25%      0.000000    1.000000         0.0    1.000000  ...    60.000000   \n",
       "50%      0.000000    1.000000         0.0    1.000000  ...   120.000000   \n",
       "75%      0.000000    2.000000         0.0    1.000000  ...   120.000000   \n",
       "max    401.000000    4.000000         0.0    3.000000  ...   300.000000   \n",
       "\n",
       "         ToTimeUTC   ArrTimeUTC   BaseOffset   DepTimeUTC   LdgTimeUTC  \\\n",
       "count  4492.000000  4492.000000  4492.000000  4492.000000  4492.000000   \n",
       "mean      1.445013   751.612867    86.332814   671.940338     1.232858   \n",
       "std      38.409852   405.441657    71.568889   379.485783    35.241630   \n",
       "min      -1.000000     0.000000   -99.000000     0.000000    -1.000000   \n",
       "25%       0.000000   465.000000    60.000000   385.000000     0.000000   \n",
       "50%       0.000000   780.000000   120.000000   700.000000     0.000000   \n",
       "75%       0.000000  1080.250000   120.000000   980.000000     0.000000   \n",
       "max    1330.000000  1439.000000   180.000000  1436.000000  1380.000000   \n",
       "\n",
       "       FuelPlanned  ArrTimeSCHED  DepTimeSCHED  Cargo  \n",
       "count       4492.0   4492.000000   4492.000000   17.0  \n",
       "mean           0.0     -0.000890     -0.000890    0.0  \n",
       "std            0.0      0.029831      0.029831    0.0  \n",
       "min            0.0     -1.000000     -1.000000    0.0  \n",
       "25%            0.0      0.000000      0.000000    0.0  \n",
       "50%            0.0      0.000000      0.000000    0.0  \n",
       "75%            0.0      0.000000      0.000000    0.0  \n",
       "max            0.0      0.000000      0.000000    0.0  \n",
       "\n",
       "[8 rows x 63 columns]"
      ]
     },
     "execution_count": 27,
     "metadata": {},
     "output_type": "execute_result"
    }
   ],
   "source": [
    "meta_df.describe()"
   ]
  },
  {
   "cell_type": "code",
   "execution_count": 28,
   "id": "4a805594",
   "metadata": {},
   "outputs": [],
   "source": [
    "# Combine the two DataFrames using the index\n",
    "result_df = pd.concat([df, meta_df], axis=1).drop('meta', axis=1)"
   ]
  },
  {
   "cell_type": "code",
   "execution_count": 29,
   "id": "da611c97",
   "metadata": {},
   "outputs": [
    {
     "data": {
      "text/html": [
       "<div>\n",
       "<style scoped>\n",
       "    .dataframe tbody tr th:only-of-type {\n",
       "        vertical-align: middle;\n",
       "    }\n",
       "\n",
       "    .dataframe tbody tr th {\n",
       "        vertical-align: top;\n",
       "    }\n",
       "\n",
       "    .dataframe thead th {\n",
       "        text-align: right;\n",
       "    }\n",
       "</style>\n",
       "<table border=\"1\" class=\"dataframe\">\n",
       "  <thead>\n",
       "    <tr style=\"text-align: right;\">\n",
       "      <th></th>\n",
       "      <th>table</th>\n",
       "      <th>guid</th>\n",
       "      <th>Fin</th>\n",
       "      <th>Sea</th>\n",
       "      <th>TMG</th>\n",
       "      <th>Efis</th>\n",
       "      <th>FNPT</th>\n",
       "      <th>Make</th>\n",
       "      <th>Run2</th>\n",
       "      <th>Class</th>\n",
       "      <th>...</th>\n",
       "      <th>LinkedIn</th>\n",
       "      <th>PilotRef</th>\n",
       "      <th>PilotCode</th>\n",
       "      <th>PilotName</th>\n",
       "      <th>PilotEMail</th>\n",
       "      <th>PilotPhone</th>\n",
       "      <th>Certificate</th>\n",
       "      <th>PhoneSearch</th>\n",
       "      <th>PilotSearch</th>\n",
       "      <th>RosterAlias</th>\n",
       "    </tr>\n",
       "  </thead>\n",
       "  <tbody>\n",
       "  </tbody>\n",
       "</table>\n",
       "<p>0 rows × 139 columns</p>\n",
       "</div>"
      ],
      "text/plain": [
       "Empty DataFrame\n",
       "Columns: [table, guid, Fin, Sea, TMG, Efis, FNPT, Make, Run2, Class, Model, Power, Seats, Active, Kg5700, Rating, Company, Complex, CondLog, FavList, Category, HighPerf, SubModel, Aerobatic, RefSearch, Reference, Tailwheel, DefaultApp, DefaultLog, DefaultOps, DeviceCode, AircraftCode, DefaultLaunch, Record_Modified, EngType, EngGroup, AFCat, AFCode, AFIATA, AFICAO, AFName, TZCode, Latitude, ShowList, AFCountry, Longitude, NotesUser, RegionUser, ElevationFT, City, AFFAA, Notes, UserEdit, PF, Pax, Fuel, DeIce, Route, ToDay, minU1, minU2, minU3, minU4, minXC, ArrRwy, DepRwy, LdgDay, LiftSW, P1Code, P2Code, P3Code, P4Code, Report, TagOps, ToEdit, minAIR, minCOP, minIFR, minIMT, minPIC, minREL, minSFR, ArrCode, DateUTC, DepCode, HobbsIn, Holding, Pairing, Remarks, SignBox, ToNight, UserNum, minDUAL, minEXAM, CrewList, DateBASE, FuelUsed, HobbsOut, LdgNight, NextPage, ...]\n",
       "Index: []\n",
       "\n",
       "[0 rows x 139 columns]"
      ]
     },
     "execution_count": 29,
     "metadata": {},
     "output_type": "execute_result"
    }
   ],
   "source": [
    "# check the duplicates\n",
    "result_df[result_df.duplicated(keep=\"first\")]"
   ]
  },
  {
   "cell_type": "code",
   "execution_count": 30,
   "id": "55a18973",
   "metadata": {},
   "outputs": [
    {
     "data": {
      "text/plain": [
       "array(['table', 'guid', 'Fin', 'Sea', 'TMG', 'Efis', 'FNPT', 'Make',\n",
       "       'Run2', 'Class', 'Model', 'Power', 'Seats', 'Active', 'Kg5700',\n",
       "       'Rating', 'Company', 'Complex', 'CondLog', 'FavList', 'Category',\n",
       "       'HighPerf', 'SubModel', 'Aerobatic', 'RefSearch', 'Reference',\n",
       "       'Tailwheel', 'DefaultApp', 'DefaultLog', 'DefaultOps',\n",
       "       'DeviceCode', 'AircraftCode', 'DefaultLaunch', 'Record_Modified',\n",
       "       'EngType', 'EngGroup', 'AFCat', 'AFCode', 'AFIATA', 'AFICAO',\n",
       "       'AFName', 'TZCode', 'Latitude', 'ShowList', 'AFCountry',\n",
       "       'Longitude', 'NotesUser', 'RegionUser', 'ElevationFT', 'City',\n",
       "       'AFFAA', 'Notes', 'UserEdit', 'PF', 'Pax', 'Fuel', 'DeIce',\n",
       "       'Route', 'ToDay', 'minU1', 'minU2', 'minU3', 'minU4', 'minXC',\n",
       "       'ArrRwy', 'DepRwy', 'LdgDay', 'LiftSW', 'P1Code', 'P2Code',\n",
       "       'P3Code', 'P4Code', 'Report', 'TagOps', 'ToEdit', 'minAIR',\n",
       "       'minCOP', 'minIFR', 'minIMT', 'minPIC', 'minREL', 'minSFR',\n",
       "       'ArrCode', 'DateUTC', 'DepCode', 'HobbsIn', 'Holding', 'Pairing',\n",
       "       'Remarks', 'SignBox', 'ToNight', 'UserNum', 'minDUAL', 'minEXAM',\n",
       "       'CrewList', 'DateBASE', 'FuelUsed', 'HobbsOut', 'LdgNight',\n",
       "       'NextPage', 'TagDelay', 'Training', 'UserBool', 'UserText',\n",
       "       'minINSTR', 'minNIGHT', 'minPICUS', 'minTOTAL', 'ArrOffset',\n",
       "       'DateLOCAL', 'DepOffset', 'TagLaunch', 'TagLesson', 'ToTimeUTC',\n",
       "       'ArrTimeUTC', 'BaseOffset', 'DepTimeUTC', 'FlightCode',\n",
       "       'LdgTimeUTC', 'FuelPlanned', 'NextSummary', 'TagApproach',\n",
       "       'ArrTimeSCHED', 'DepTimeSCHED', 'FlightNumber', 'FlightSearch',\n",
       "       'Cargo', 'UserAPI', 'Facebook', 'LinkedIn', 'PilotRef',\n",
       "       'PilotCode', 'PilotName', 'PilotEMail', 'PilotPhone',\n",
       "       'Certificate', 'PhoneSearch', 'PilotSearch', 'RosterAlias'],\n",
       "      dtype=object)"
      ]
     },
     "execution_count": 30,
     "metadata": {},
     "output_type": "execute_result"
    }
   ],
   "source": [
    "# see all the column names combined to match with the logbook\n",
    "result_df.columns.values"
   ]
  },
  {
   "cell_type": "code",
   "execution_count": 38,
   "id": "0fb97138",
   "metadata": {},
   "outputs": [],
   "source": [
    "# save modified dataframe to a json\n",
    "df.to_json('modified_pilotlog.json', orient='records')"
   ]
  }
 ],
 "metadata": {
  "kernelspec": {
   "display_name": "Python 3 (ipykernel)",
   "language": "python",
   "name": "python3"
  },
  "language_info": {
   "codemirror_mode": {
    "name": "ipython",
    "version": 3
   },
   "file_extension": ".py",
   "mimetype": "text/x-python",
   "name": "python",
   "nbconvert_exporter": "python",
   "pygments_lexer": "ipython3",
   "version": "3.10.8"
  }
 },
 "nbformat": 4,
 "nbformat_minor": 5
}
